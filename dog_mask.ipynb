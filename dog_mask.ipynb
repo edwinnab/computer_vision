{
 "cells": [
  {
   "cell_type": "code",
   "execution_count": 8,
   "metadata": {},
   "outputs": [],
   "source": [
    "#applies dog mask to faces\n",
    "import cv2\n",
    "import numpy as np\n",
    "\n",
    "#fits the dog_mask to the image\n",
    "def apply_mask(face: np.array, mask: np.array) -> np.array:\n",
    "    #extracts the face and mask height and width\n",
    "    mask_h, mask_w, _ = mask.shape\n",
    "    face_h, face_w, _ = face.shape\n",
    "    #resize the mask to fit the face\n",
    "    factor = min(face_h/mask_h, face_w/mask_w)\n",
    "    #compute the new shape\n",
    "    new_mask_w = int(factor * mask_w)\n",
    "    new_mask_h = int(factor * mask_h)\n",
    "    new_mask_shape = (new_mask_w, new_mask_h)\n",
    "    #adds the resized dog mask to the new face shape\n",
    "    resized_mask = cv2.resize(mask,new_mask_shape)\n",
    "    #make a copy of the image\n",
    "    face_with_mask = face.copy()\n",
    "    #nsure it is black and white\n",
    "    non_white_pixels = (resized_mask < 250).all(axis = 2)\n",
    "    #center the dog image to the face\n",
    "    off_h = int((face_h - new_mask_h)/2)\n",
    "    off_w = int((face_w - new_mask_w)/2)\n",
    "    #copy non_white pixels from dog image to child's image\n",
    "    face_with_mask[off_h: off_h+new_mask_h, off_w: off_w+new_mask_w][non_white_pixels] = \\\n",
    "        resized_mask[non_white_pixels]\n",
    "    #return the results\n",
    "    return face_with_mask\n",
    "\n",
    "def main():\n",
    "    #loads image and dog mask into memory\n",
    "    face = cv2.imread(\"/home/queen/Desktop/python/tensorflow-prac/Dog_filter/assets/child.png\")\n",
    "    mask = cv2.imread(\"/home/queen/Desktop/python/tensorflow-prac/Dog_filter/assets/dog.png\")\n",
    "    #invokes the apply_mask function\n",
    "    face_with_mask = apply_mask(face,mask)\n",
    "    cv2.imwrite(\"/home/queen/Desktop/python/tensorflow-prac/Dog_filter/output/child_with_dog_mask.png\", face_with_mask)\n",
    "    \n",
    "if __name__==\"__main__\":\n",
    "    main()"
   ]
  },
  {
   "cell_type": "code",
   "execution_count": null,
   "metadata": {},
   "outputs": [],
   "source": []
  },
  {
   "cell_type": "code",
   "execution_count": null,
   "metadata": {},
   "outputs": [],
   "source": []
  }
 ],
 "metadata": {
  "kernelspec": {
   "display_name": "Python 3",
   "language": "python",
   "name": "python3"
  },
  "language_info": {
   "codemirror_mode": {
    "name": "ipython",
    "version": 3
   },
   "file_extension": ".py",
   "mimetype": "text/x-python",
   "name": "python",
   "nbconvert_exporter": "python",
   "pygments_lexer": "ipython3",
   "version": "3.6.9"
  }
 },
 "nbformat": 4,
 "nbformat_minor": 4
}
