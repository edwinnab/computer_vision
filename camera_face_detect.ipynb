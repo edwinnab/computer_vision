{
 "cells": [
  {
   "cell_type": "code",
   "execution_count": 3,
   "metadata": {},
   "outputs": [],
   "source": [
    "#linking camera feed\n",
    "#collects input,dete and annote all faces\n",
    "#display the anotated image back to the user\n",
    "#imports opencv which contains the image utilities and face classifier\n",
    "import cv2\n",
    "def main():\n",
    "    #initialize the videocapture object\n",
    "    cap = cv2.VideoCapture(0)\n",
    "    #initializes the face classifier\n",
    "    cascade = cv2.CascadeClassifier(\"/home/queen/Desktop/python/tensorflow-prac/Dog_filter/assets/haarcascade_frontalface_default.xml\")\n",
    "    while True:\n",
    "        #reads image from the camera\n",
    "        ret, frame = cap.read()\n",
    "        #converts the image to black and white\n",
    "        gray = cv2.cvtColor(frame, cv2.COLOR_BGR2GRAY)\n",
    "        blackwhite = cv2.equalizeHist(gray)\n",
    "        #detects all faces in the image\n",
    "        rects = cascade.detectMultiScale(\n",
    "            blackwhite, scaleFactor = 1.3, minNeighbors = 4, minSize = (30,30),\n",
    "        flags = cv2.CASCADE_SCALE_IMAGE)\n",
    "        #iterate over the detected images and draw them greens\n",
    "        for x,y,w,h in rects:\n",
    "            cv2.rectangle(frame,(x,y),(x+w, y+h), (0,255,0),(2))\n",
    "        #display the annotated image back to the user's screen\n",
    "        cv2.imshow('frame', frame)\n",
    "        #checks keyboard input from the user\n",
    "        if cv2.waitKey(1) & 0xFF == ord(\"q\"):\n",
    "            break\n",
    "    cap.release()\n",
    "    cv2.destroyAllWindows()\n",
    "if __name__=='__main__':\n",
    "    main()\n",
    "\n"
   ]
  },
  {
   "cell_type": "code",
   "execution_count": null,
   "metadata": {},
   "outputs": [],
   "source": []
  }
 ],
 "metadata": {
  "kernelspec": {
   "display_name": "Python 3",
   "language": "python",
   "name": "python3"
  },
  "language_info": {
   "codemirror_mode": {
    "name": "ipython",
    "version": 3
   },
   "file_extension": ".py",
   "mimetype": "text/x-python",
   "name": "python",
   "nbconvert_exporter": "python",
   "pygments_lexer": "ipython3",
   "version": "3.6.9"
  }
 },
 "nbformat": 4,
 "nbformat_minor": 4
}
