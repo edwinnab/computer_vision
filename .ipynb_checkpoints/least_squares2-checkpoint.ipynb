{
 "cells": [
  {
   "cell_type": "code",
   "execution_count": 3,
   "metadata": {},
   "outputs": [
    {
     "name": "stdout",
     "output_type": "stream",
     "text": [
      "(ridge) Train Accuracy: 0.6511079061229841\n",
      "(ridge) Test Accuracy: 0.6165748754261736\n"
     ]
    }
   ],
   "source": [
    "import numpy as np\n",
    "\n",
    "\n",
    "#evaluate function\n",
    "\n",
    "def evaluate(A, Y, w):\n",
    "    Yhat = np.argmax(A.dot(w), axis = 1)\n",
    "    return np.sum(Yhat == Y)/Y.shape[0]\n",
    "\n",
    "def main():\n",
    "    #load data into memory\n",
    "    with np.load('/home/queen/Desktop/python/tensorflow-prac/Dog_filter/data/fer2013_train.npz') as data:\n",
    "        X_train, Y_train = data['X'], data['Y']\n",
    "    with np.load('/home/queen/Desktop/python/tensorflow-prac/Dog_filter/data/fer2013_test.npz') as data:\n",
    "        X_test, Y_test = data['X'], data['Y']\n",
    "        #one_hot_encode labels\n",
    "    I = np.eye(6)\n",
    "    Y_oh_train, Y_oh_test = I[Y_train], I[Y_test]\n",
    "    #random feature matrix\n",
    "    d = 1000\n",
    "    w = np.random.normal(size=(X_train.shape[1],d))\n",
    "    #reduce the computing time by using the dimensions to 100\n",
    "    A_train, A_test = X_train.dot(w), X_test.dot(w)\n",
    "    #ridge regression\n",
    "    I = np.eye(A_train.shape[1])\n",
    "    w = np.linalg.inv(A_train.T.dot(A_train) + 1e10 * I).dot(A_train.T.dot(Y_oh_train))\n",
    "    \n",
    "    #computes training and validation accuracy\n",
    "    print('(ridge) Train Accuracy:', evaluate(A_train, Y_train, w))\n",
    "    print('(ridge) Test Accuracy:', evaluate(A_test, Y_test, w))\n",
    "    \n",
    "    \n",
    "if __name__ == \"__main__\":\n",
    "    main()"
   ]
  },
  {
   "cell_type": "code",
   "execution_count": null,
   "metadata": {},
   "outputs": [],
   "source": []
  }
 ],
 "metadata": {
  "kernelspec": {
   "display_name": "Python 3",
   "language": "python",
   "name": "python3"
  },
  "language_info": {
   "codemirror_mode": {
    "name": "ipython",
    "version": 3
   },
   "file_extension": ".py",
   "mimetype": "text/x-python",
   "name": "python",
   "nbconvert_exporter": "python",
   "pygments_lexer": "ipython3",
   "version": "3.6.9"
  }
 },
 "nbformat": 4,
 "nbformat_minor": 4
}
