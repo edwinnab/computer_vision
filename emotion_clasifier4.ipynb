{
 "cells": [
  {
   "cell_type": "code",
   "execution_count": 7,
   "metadata": {},
   "outputs": [
    {
     "ename": "ModuleNotFoundError",
     "evalue": "No module named 'emotion_classifier3'",
     "output_type": "error",
     "traceback": [
      "\u001b[0;31m---------------------------------------------------------------------------\u001b[0m",
      "\u001b[0;31mModuleNotFoundError\u001b[0m                       Traceback (most recent call last)",
      "\u001b[0;32m<ipython-input-7-49b9436b5f27>\u001b[0m in \u001b[0;36m<module>\u001b[0;34m\u001b[0m\n\u001b[1;32m      1\u001b[0m \u001b[0;34m\"\"\"Test for face detection\"\"\"\u001b[0m\u001b[0;34m\u001b[0m\u001b[0;34m\u001b[0m\u001b[0m\n\u001b[1;32m      2\u001b[0m \u001b[0;34m\u001b[0m\u001b[0m\n\u001b[0;32m----> 3\u001b[0;31m \u001b[0;32mfrom\u001b[0m \u001b[0memotion_classifier3\u001b[0m\u001b[0;34m.\u001b[0m\u001b[0mipynb\u001b[0m  \u001b[0;32mimport\u001b[0m \u001b[0mget_image_to_emotion_predictor\u001b[0m\u001b[0;34m\u001b[0m\u001b[0;34m\u001b[0m\u001b[0m\n\u001b[0m\u001b[1;32m      4\u001b[0m \u001b[0;32mimport\u001b[0m \u001b[0mnumpy\u001b[0m \u001b[0;32mas\u001b[0m \u001b[0mnp\u001b[0m\u001b[0;34m\u001b[0m\u001b[0;34m\u001b[0m\u001b[0m\n\u001b[1;32m      5\u001b[0m \u001b[0;32mimport\u001b[0m \u001b[0mcv2\u001b[0m\u001b[0;34m\u001b[0m\u001b[0;34m\u001b[0m\u001b[0m\n",
      "\u001b[0;31mModuleNotFoundError\u001b[0m: No module named 'emotion_classifier3'"
     ]
    }
   ],
   "source": [
    "\"\"\"Test for face detection\"\"\"\n",
    "\n",
    "import get_image_to_emotion_predictor\n",
    "import numpy as np\n",
    "import cv2\n",
    "\n",
    "def apply_mask(face: np.array, mask: np.array) -> np.array:\n",
    "    \"\"\"Add the mask to the provided face, and return the face with mask.\"\"\"\n",
    "    mask_h, mask_w, _ = mask.shape\n",
    "    face_h, face_w, _ = face.shape\n",
    "\n",
    "    # Resize the mask to fit on face\n",
    "    factor = min(face_h / mask_h, face_w / mask_w)\n",
    "    new_mask_w = int(factor * mask_w)\n",
    "    new_mask_h = int(factor * mask_h)\n",
    "    new_mask_shape = (new_mask_w, new_mask_h)\n",
    "    resized_mask = cv2.resize(mask, new_mask_shape)\n",
    "\n",
    "    # Add mask to face - ensure mask is centered\n",
    "    face_with_mask = face.copy()\n",
    "    non_white_pixels = (resized_mask < 250).all(axis=2)\n",
    "    off_h = int((face_h - new_mask_h) / 2)\n",
    "    off_w = int((face_w - new_mask_w) / 2)\n",
    "    face_with_mask[off_h: off_h+new_mask_h, off_w: off_w+new_mask_w][non_white_pixels] = \\\n",
    "         resized_mask[non_white_pixels]\n",
    "\n",
    "    return face_with_mask\n",
    "\n",
    "def main():\n",
    "\n",
    "    cap = cv2.VideoCapture(0)\n",
    "    # load mask\n",
    "    mask0 = cv2.imread('assets/dog.png')\n",
    "    mask1 = cv2.imread('assets/dalmation.png')\n",
    "    mask2 = cv2.imread('assets/sheepdog.png')\n",
    "    masks = (mask0, mask1, mask2)\n",
    "\n",
    "    # get emotion predictor\n",
    "    predictor = get_image_to_emotion_predictor()\n",
    "\n",
    "    # initialize front face classifier\n",
    "    cascade = cv2.CascadeClassifier(\"/home/queen/Desktop/python/tensorflow-prac/Dog_filter/assets/haarcascade_frontalface_default.xml\")\n",
    "\n",
    "    while True:\n",
    "        # Capture frame-by-frame\n",
    "        ret, frame = cap.read()\n",
    "        frame_h, frame_w, _ = frame.shape\n",
    "\n",
    "        # Convert to black-and-white\n",
    "        gray = cv2.cvtColor(frame, cv2.COLOR_BGR2GRAY)\n",
    "        blackwhite = cv2.equalizeHist(gray)\n",
    "\n",
    "        rects = cascade.detectMultiScale(\n",
    "            blackwhite, scaleFactor=1.3, minNeighbors=4, minSize=(30, 30),\n",
    "            flags=cv2.CASCADE_SCALE_IMAGE)\n",
    "\n",
    "        for x, y, w, h in rects:\n",
    "            # crop a frame slightly larger than the face\n",
    "            y0, y1 = int(y - 0.25*h), int(y + 0.75*h)\n",
    "            x0, x1 = x, x + w\n",
    "            # give up if the cropped frame would be out-of-bounds\n",
    "            if x0 < 0 or y0 < 0 or x1 > frame_w or y1 > frame_h:\n",
    "                continue\n",
    "            # apply mask\n",
    "            mask = masks[predictor(frame[y:y+h, x: x+w])]\n",
    "            frame[y0: y1, x0: x1] = apply_mask(frame[y0: y1, x0: x1], mask)\n",
    "\n",
    "        # Display the resulting frame\n",
    "        cv2.imshow('frame', frame)\n",
    "        if cv2.waitKey(1) & 0xFF == ord('q'):\n",
    "            break\n",
    "\n",
    "    cap.release()\n",
    "    cv2.destroyAllWindows()\n",
    "\n",
    "if __name__ == '__main__':\n",
    "    main()"
   ]
  },
  {
   "cell_type": "code",
   "execution_count": null,
   "metadata": {},
   "outputs": [],
   "source": []
  }
 ],
 "metadata": {
  "kernelspec": {
   "display_name": "Python 3",
   "language": "python",
   "name": "python3"
  },
  "language_info": {
   "codemirror_mode": {
    "name": "ipython",
    "version": 3
   },
   "file_extension": ".py",
   "mimetype": "text/x-python",
   "name": "python",
   "nbconvert_exporter": "python",
   "pygments_lexer": "ipython3",
   "version": "3.6.9"
  }
 },
 "nbformat": 4,
 "nbformat_minor": 4
}
