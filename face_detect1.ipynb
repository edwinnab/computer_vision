{
 "cells": [
  {
   "cell_type": "code",
   "execution_count": 6,
   "metadata": {},
   "outputs": [],
   "source": [
    "#imports opencv which contains the image utilities and face classifier\n",
    "import cv2\n",
    "def main():\n",
    "    #initializes the face classifier\n",
    "    cascade = cv2.CascadeClassifier(\"/home/queen/Desktop/python/tensorflow-prac/Dog_filter/assets/haarcascade_frontalface_default.xml\")\n",
    "    #loads the image children.png\n",
    "    frame = cv2.imread(\"/home/queen/Desktop/python/tensorflow-prac/Dog_filter/assets/children.png\")\n",
    "    #converts the image to black and white\n",
    "    gray = cv2.cvtColor(frame, cv2.COLOR_BGR2GRAY)\n",
    "    blackwhite = cv2.equalizeHist(gray)\n",
    "    #detects all faces in the image\n",
    "    rects = cascade.detectMultiScale(\n",
    "        blackwhite, scaleFactor = 1.3, minNeighbors = 4, minSize = (30,30),\n",
    "    flags = cv2.CASCADE_SCALE_IMAGE)\n",
    "    #iterate over the detected images and draw them greens\n",
    "    for x,y,w,h in rects:\n",
    "        cv2.rectangle(frame,(x,y),(x+w, y+h), (0,255,0),(2))\n",
    "    #write the new image with bounding boxes into a new file\n",
    "    cv2.imwrite(\"/home/queen/Desktop/python/tensorflow-prac/Dog_filter/output/children_detected.png\", frame)\n",
    "if __name__=='__main__':\n",
    "    main()\n",
    "\n"
   ]
  },
  {
   "cell_type": "code",
   "execution_count": null,
   "metadata": {},
   "outputs": [],
   "source": [
    "#linking live camera feed to camera_face_detect.ipynb"
   ]
  },
  {
   "cell_type": "code",
   "execution_count": null,
   "metadata": {},
   "outputs": [],
   "source": []
  }
 ],
 "metadata": {
  "kernelspec": {
   "display_name": "Python 3",
   "language": "python",
   "name": "python3"
  },
  "language_info": {
   "codemirror_mode": {
    "name": "ipython",
    "version": 3
   },
   "file_extension": ".py",
   "mimetype": "text/x-python",
   "name": "python",
   "nbconvert_exporter": "python",
   "pygments_lexer": "ipython3",
   "version": "3.6.9"
  }
 },
 "nbformat": 4,
 "nbformat_minor": 4
}
