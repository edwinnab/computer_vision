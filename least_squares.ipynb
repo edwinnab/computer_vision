{
 "cells": [
  {
   "cell_type": "code",
   "execution_count": 3,
   "metadata": {},
   "outputs": [
    {
     "name": "stdout",
     "output_type": "stream",
     "text": [
      "(ols) Train Accuracy: 0.4748918316507146\n",
      "(ols) Test Accuracy: 0.45266194597429843\n"
     ]
    }
   ],
   "source": [
    "import numpy as np\n",
    "\n",
    "\n",
    "#evaluate function\n",
    "\n",
    "def evaluate(A, Y, w):\n",
    "    Yhat = np.argmax(A.dot(w), axis = 1)\n",
    "    return np.sum(Yhat == Y)/Y.shape[0]\n",
    "\n",
    "def main():\n",
    "    #load data into memory\n",
    "    with np.load('/home/queen/Desktop/python/tensorflow-prac/Dog_filter/data/fer2013_train.npz') as data:\n",
    "        X_train, Y_train = data['X'], data['Y']\n",
    "    with np.load('/home/queen/Desktop/python/tensorflow-prac/Dog_filter/data/fer2013_test.npz') as data:\n",
    "        X_test, Y_test = data['X'], data['Y']\n",
    "        #one_hot_encode labels\n",
    "    I = np.eye(6)\n",
    "    Y_oh_train, Y_oh_test = I[Y_train], I[Y_test]\n",
    "    #reduce the computing time by using the dimensions to 100\n",
    "    A_train, A_test = X_train[:, :100], X_test[:, :100]\n",
    "    #train the model\n",
    "    w = np.linalg.inv(A_train.T.dot(A_train)).dot(A_train.T.dot(Y_oh_train))\n",
    "    \n",
    "    #computes training and validation accuracy\n",
    "    ols_train_accuracy = evaluate(A_train, Y_train, w)\n",
    "    print(\"(ols) Train Accuracy:\", ols_train_accuracy)\n",
    "    ols_test_accuracy = evaluate(A_test, Y_test, w)\n",
    "    print(\"(ols) Test Accuracy:\", ols_test_accuracy)\n",
    "    \n",
    "    \n",
    "if __name__ == \"__main__\":\n",
    "    main()"
   ]
  },
  {
   "cell_type": "code",
   "execution_count": null,
   "metadata": {},
   "outputs": [],
   "source": []
  }
 ],
 "metadata": {
  "kernelspec": {
   "display_name": "Python 3",
   "language": "python",
   "name": "python3"
  },
  "language_info": {
   "codemirror_mode": {
    "name": "ipython",
    "version": 3
   },
   "file_extension": ".py",
   "mimetype": "text/x-python",
   "name": "python",
   "nbconvert_exporter": "python",
   "pygments_lexer": "ipython3",
   "version": "3.6.9"
  }
 },
 "nbformat": 4,
 "nbformat_minor": 4
}
